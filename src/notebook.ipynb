{
 "cells": [
  {
   "cell_type": "markdown",
   "id": "36dd82d7",
   "metadata": {},
   "source": [
    "## Criptografia por Deslocamento\n",
    "\n",
    "A criptografia por deslocamento, é uma das técnicas de criptografia mais antigas já criadas. Ela consiste em substituir cada letra de uma mensagem por outra, deslocando-a no alfabeto por um número fixo de posições. Esse número, chamado de chave de deslocamento, deve ser um inteiro, geralmente entre 1 e 25 no caso do alfabeto latino, para evitar que o deslocamento seja redundante (chaves iguais a 0 ou 26 resultam no texto original).\n",
    "\n",
    "No funcionamento da cifra, cada letra é convertida para um índice numérico correspondente à sua posição no alfabeto (A = 0, B = 1, ..., Z = 25). Em seguida, o valor da chave é somado a esse índice, e o resultado passa por uma operação de módulo 26, garantindo que o índice resultante permaneça dentro do intervalo válido para o alfabeto. A nova posição determina a letra substituta. Por exemplo, com uma chave de deslocamento de 3, a letra \"A\" se torna \"D\", \"B\" se torna \"E\", e assim por diante.\n",
    "\n",
    "Embora historicamente usada para proteger mensagens confidenciais, a Cifra de César oferece pouca segurança no contexto atual,  especialmente com a utilização dos computadores no auxlio desta quebra, pois pode ser facilmente quebrada por força bruta (testando todas as chaves possíveis) ou análise de frequência.\n",
    "\n",
    "A seguir, iremos desenvolver um código que implementará uma Criptografia por Deslocamento. O programa será capaz de gerar uma chave de deslocamento que define o número de posições a serem alteradas no alfabeto, criptografar a mensagem original com base na chave gerada e também será capaz de descriptografar tanto utilizando a chave de deslocamento tanto quanto sem esta chave utilizando apenas análise de frequência das letras no português."
   ]
  },
  {
   "cell_type": "markdown",
   "id": "84b7426d",
   "metadata": {},
   "source": [
    "### Código para Geração da Chave, Leitura do Plaint-Text e Geração da Cifra\n",
    "\n",
    "Para o estudo da criptografia por deslocamento, utilizaremos a primeira página do livro:\"A Revolução dos Bixos\" por George Orwell. Da edição da Gaveta do Povo. A escolha foi motivada pela necessidade que para a quebra de um texto por análise de frequência, é importante ter um grande volume de palavras escritas de forma coerente e ortograficamente corretas. Assim, nada melhor que um livro para nos fornercer esses dados.\n",
    "\n",
    "Mas para isso é necessário uma série de filtragens para tornar o texto livre de acentuação, caracteres especiais e letras como \"ç\".\n",
    "\n",
    "Assim, vamos desenvolver a seguinte função para a leitura e tratamento do nosso texto a ser cifrado:\n"
   ]
  },
  {
   "cell_type": "code",
   "execution_count": 518,
   "id": "77ae3531",
   "metadata": {},
   "outputs": [],
   "source": [
    "import math\n",
    "import random\n",
    "import itertools\n",
    "import unicodedata\n",
    "import numpy as np\n",
    "import pandas as pd\n",
    "from data.letras import frequencia_letras\n",
    "\n",
    "def read_plain_text(file_path):\n",
    "    with open(file_path, 'r', encoding='utf-8') as file:\n",
    "        plain_text = file.read()\n",
    "    \n",
    "    plain_text = plain_text.replace(\" \", \"\")\n",
    "    \n",
    "    plain_text = unicodedata.normalize('NFD', plain_text)\n",
    "    plain_text = ''.join(char for char in plain_text if unicodedata.category(char) != 'Mn')\n",
    "    \n",
    "    plain_text = plain_text.lower().replace(\"ç\", \"\")\n",
    "    plain_text = plain_text.replace(\".\", \"\")\n",
    "    plain_text = plain_text.replace(\",\", \"\")\n",
    "    plain_text = plain_text.replace(\"-\", \"\")\n",
    "    plain_text = plain_text.replace(\":\", \"\")\n",
    "    plain_text = plain_text.replace(\";\", \"\")\n",
    "    plain_text = plain_text.replace(\")\", \"\")\n",
    "    plain_text = plain_text.replace(\"(\", \"\")\n",
    "    plain_text = plain_text.replace(\"{\", \"\")\n",
    "    plain_text = plain_text.replace(\"}\", \"\")\n",
    "    plain_text = plain_text.replace(\"\\n\", \"\")\n",
    "    \n",
    "    return plain_text"
   ]
  },
  {
   "cell_type": "markdown",
   "id": "15fe5495",
   "metadata": {},
   "source": [
    "Já com nosso texto a ser cifrado, partiremos para a escolha da Chave de Deslocamento. A escolha da chave será aleatória e será um número de 1 a 25, fora isso iremos desenvolver uma função auxiliar para nos ajudar futuramente, basicamente será uma lista das letras do alfabeto com o número de sua posição:"
   ]
  },
  {
   "cell_type": "code",
   "execution_count": 519,
   "id": "573db257",
   "metadata": {},
   "outputs": [],
   "source": [
    "def alphabet_mapping():\n",
    "    alphabet_map = {}\n",
    "    for i in range(ord('a'), ord('z') + 1):\n",
    "        alphabet_map[chr(i)] = i - ord('a')\n",
    "    return alphabet_map\n",
    "\n",
    "def generate_key():\n",
    "    return random.randint(1, 25)"
   ]
  },
  {
   "cell_type": "markdown",
   "id": "2b527ef3",
   "metadata": {},
   "source": [
    "Com o texto pronto, a chave e nossa função auxiliar, iremos partir para a função de geração da cifra, ela será bem simples devendo apenas receber a chave e deslocar todos os caracteres do texto a partir do número da chave."
   ]
  },
  {
   "cell_type": "code",
   "execution_count": 520,
   "id": "fcefc739",
   "metadata": {},
   "outputs": [],
   "source": [
    "def encrypt(alphabet_map, plain_text, key):\n",
    "    encrypted_text = []\n",
    "    for char in plain_text:\n",
    "        if char in alphabet_map:\n",
    "            new_index = (alphabet_map[char] + key) % len(alphabet_map)\n",
    "            encrypted_text.append(list(alphabet_map.keys())[new_index])\n",
    "\n",
    "    return ''.join(encrypted_text)"
   ]
  },
  {
   "cell_type": "markdown",
   "id": "45b52b38",
   "metadata": {},
   "source": [
    "Pronto. Agora, devemos ser capazes de ler o texto a ser criptografado, gerar uma chave aleatória e, por fim, gerar a cifra correspondente a chave fornecida."
   ]
  },
  {
   "cell_type": "code",
   "execution_count": 521,
   "id": "7f9c8af4",
   "metadata": {},
   "outputs": [
    {
     "name": "stdout",
     "output_type": "stream",
     "text": [
      "Texto original: srjonesdafazendasolartinhatrancadoosgalinheiroscomotodaanoitemasestavabebadodemaisparaselembrardefecharasportinholaslateraiscomocirculodeluzdesualanternadancandodeumladoparaooutroelesearrastoupelopatiotirouasbotasnaportadosfundosdacasaencheuumultimocopodecervejanobarrildacopaesubiuparaacamaondeasrajonesjaestavaroncandoassimquealuzdoquartoseapagouhouveumaagitacaoeumrebulicoemtodasasinstalacoesdafazendaduranteodiahaviaseespalhadoanoticiadequeovelhomajorumporcodaracamiddlewhitemagnificotiveraumsonhoestranhonanoiteanterioredesejavacontaloaosoutrosanimaistodoscombinaramquedeveriamseencontraremsegurancanograndeceleiroassimqueosrjonesestivesseforadocaminhoovelhomajorassimochamavamemboraseunomedeexibicaofossebelezadewillingdongozavadetantorespeitonafazendaquetodosestavamprontosparaperderumahoradesonoafimdeouviroqueeletinhaadizeroi\n",
      "Chave de encriptação gerada: 8\n",
      "Texto cifrado gerado:\n",
      " azrwvmalinihmvliawtizbqvpibzivkilwwaoitqvpmqzwakwuwbwliivwqbmuiamabidijmjilwlmuiqaxiziamtmujzizlmnmkpiziaxwzbqvpwtiatibmziqakwuwkqzkctwlmtchlmacitivbmzvilivkivlwlmcutilwxiziwwcbzwmtmamizziabwcxmtwxibqwbqzwciajwbiavixwzbilwancvlwalikiaimvkpmccuctbquwkwxwlmkmzdmrivwjizzqtlikwximacjqcxiziikiuiwvlmiazirwvmarimabidizwvkivlwiaaquycmitchlwycizbwamixiowcpwcdmcuiioqbikiwmcuzmjctqkwmubwliaiaqvabitikwmalinihmvlilczivbmwlqipidqiammaxitpilwivwbqkqilmycmwdmtpwuirwzcuxwzkwlizikiuqlltmepqbmuiovqnqkwbqdmzicuawvpwmabzivpwvivwqbmivbmzqwzmlmamridikwvbitwiwawcbzwaivquiqabwlwakwujqviziuycmlmdmzqiuammvkwvbzizmuamoczivkivwozivlmkmtmqzwiaaquycmwazrwvmamabqdmaamnwzilwkiuqvpwwdmtpwuirwziaaquwkpiuidiumujwziamcvwumlmmfqjqkiwnwaamjmtmhilmeqttqvolwvowhidilmbivbwzmaxmqbwvinihmvliycmbwlwamabidiuxzwvbwaxizixmzlmzcuipwzilmawvwinqulmwcdqzwycmmtmbqvpiilqhmzwq\n"
     ]
    }
   ],
   "source": [
    "alphabet_map = alphabet_mapping()\n",
    "\n",
    "plain_text = plain_text = read_plain_text(\"../src/data/revo_bichos.txt\")\n",
    "print(f\"Texto original: {plain_text}\")\n",
    "\n",
    "key = generate_key()\n",
    "print(f\"Chave de encriptação gerada: {key}\")\n",
    "\n",
    "cypher_text = encrypt(alphabet_map, plain_text, key)\n",
    "print(f\"Texto cifrado gerado:\\n {cypher_text}\")"
   ]
  },
  {
   "cell_type": "markdown",
   "id": "e2956372",
   "metadata": {},
   "source": [
    "Caso o código acima não tenha sido executado corretamente, execute do início todos os blocos de código em ordem e execute novamente este último bloco."
   ]
  },
  {
   "cell_type": "markdown",
   "id": "6d917fa9",
   "metadata": {},
   "source": [
    "### Código para Descriptografia com a Chave"
   ]
  },
  {
   "cell_type": "markdown",
   "id": "6a027ea3",
   "metadata": {},
   "source": [
    "Agora, iniciaremos a descriptografia do nosso texto cifrado com a chave.\n",
    "\n",
    "Iremos novamente criar uma função com um comportamento bem simples, a função irá deslocar inversamente o nosso texto cifrado a partir da chave fornecida:"
   ]
  },
  {
   "cell_type": "code",
   "execution_count": 522,
   "id": "f8ed8d50",
   "metadata": {},
   "outputs": [
    {
     "name": "stdout",
     "output_type": "stream",
     "text": [
      "Texto resultante da desencriptação com a chave:\n",
      " srjonesdafazendasolartinhatrancadoosgalinheiroscomotodaanoitemasestavabebadodemaisparaselembrardefecharasportinholaslateraiscomocirculodeluzdesualanternadancandodeumladoparaooutroelesearrastoupelopatiotirouasbotasnaportadosfundosdacasaencheuumultimocopodecervejanobarrildacopaesubiuparaacamaondeasrajonesjaestavaroncandoassimquealuzdoquartoseapagouhouveumaagitacaoeumrebulicoemtodasasinstalacoesdafazendaduranteodiahaviaseespalhadoanoticiadequeovelhomajorumporcodaracamiddlewhitemagnificotiveraumsonhoestranhonanoiteanterioredesejavacontaloaosoutrosanimaistodoscombinaramquedeveriamseencontraremsegurancanograndeceleiroassimqueosrjonesestivesseforadocaminhoovelhomajorassimochamavamemboraseunomedeexibicaofossebelezadewillingdongozavadetantorespeitonafazendaquetodosestavamprontosparaperderumahoradesonoafimdeouviroqueeletinhaadizeroi\n"
     ]
    }
   ],
   "source": [
    "def decrypt(alphabet_map, cypher_text, key):\n",
    "    decrypted_text = []\n",
    "    for char in cypher_text:\n",
    "        if char in alphabet_map:\n",
    "            new_index = (alphabet_map[char] - key) % len(alphabet_map)\n",
    "            decrypted_text.append(list(alphabet_map.keys())[new_index])\n",
    "        else:\n",
    "            decrypted_text.append(char)\n",
    "    return ''.join(decrypted_text)\n",
    "\n",
    "decrypted_text_with_key = decrypt(alphabet_map, cypher_text, key)\n",
    "print(f\"Texto resultante da desencriptação com a chave:\\n {decrypted_text_with_key}\")"
   ]
  },
  {
   "cell_type": "markdown",
   "id": "0d325787",
   "metadata": {},
   "source": [
    "Agora, testaremos se o resultado da nossa desiscritografia está correto:"
   ]
  },
  {
   "cell_type": "code",
   "execution_count": 523,
   "id": "67a0023c",
   "metadata": {},
   "outputs": [
    {
     "name": "stdout",
     "output_type": "stream",
     "text": [
      "Criptografia gerada e revertida com sucesso!!\n"
     ]
    }
   ],
   "source": [
    "if decrypted_text_with_key == plain_text:\n",
    "    print(\"Criptografia gerada e revertida com sucesso!!\")"
   ]
  },
  {
   "cell_type": "markdown",
   "id": "552ac430",
   "metadata": {},
   "source": [
    "Caso a menssagem acima não tenha sido apresentada, execute do início todos os blocos de código em ordem e execute novamente este último bloco."
   ]
  },
  {
   "cell_type": "markdown",
   "id": "6a32db14",
   "metadata": {},
   "source": [
    "### Código para Descriptografia sem chave - Análise de Frequência"
   ]
  },
  {
   "cell_type": "markdown",
   "id": "85d989d1",
   "metadata": {},
   "source": [
    "Agora, tentaremos quebrar a cifra sem utilizar a chave de deslocamento. A única informação disponível será o texto cifrado em si. Essa função será mais complexa do que as anteriores, pois envolverá uma heurística que determinará qual é a chave mais provável para o texto com base na frequência das letras no português."
   ]
  },
  {
   "cell_type": "code",
   "execution_count": 524,
   "id": "18ebeb28",
   "metadata": {},
   "outputs": [
    {
     "name": "stdout",
     "output_type": "stream",
     "text": [
      "Texto originado da desencriptação sem a chave: srjonesdafazendasolartinhatrancadoosgalinheiroscomotodaanoitemasestavabebadodemaisparaselembrardefecharasportinholaslateraiscomocirculodeluzdesualanternadancandodeumladoparaooutroelesearrastoupelopatiotirouasbotasnaportadosfundosdacasaencheuumultimocopodecervejanobarrildacopaesubiuparaacamaondeasrajonesjaestavaroncandoassimquealuzdoquartoseapagouhouveumaagitacaoeumrebulicoemtodasasinstalacoesdafazendaduranteodiahaviaseespalhadoanoticiadequeovelhomajorumporcodaracamiddlewhitemagnificotiveraumsonhoestranhonanoiteanterioredesejavacontaloaosoutrosanimaistodoscombinaramquedeveriamseencontraremsegurancanograndeceleiroassimqueosrjonesestivesseforadocaminhoovelhomajorassimochamavamemboraseunomedeexibicaofossebelezadewillingdongozavadetantorespeitonafazendaquetodosestavamprontosparaperderumahoradesonoafimdeouviroqueeletinhaadizeroi\n"
     ]
    }
   ],
   "source": [
    "def break_shift_cipher(alphabet_map, cypher_text):\n",
    "    alphabet = list(alphabet_map.keys())\n",
    "    cypher_frequencies = {letter: 0 for letter in alphabet}\n",
    "    \n",
    "    for char in cypher_text:\n",
    "        if char in cypher_frequencies:\n",
    "            cypher_frequencies[char] += 1\n",
    "    \n",
    "    total_letters = sum(cypher_frequencies.values())\n",
    "    cypher_frequencies = {k: (v / total_letters) * 100 for k, v in cypher_frequencies.items()}\n",
    "    \n",
    "    best_key = None\n",
    "    best_correlation = float('-inf')\n",
    "    \n",
    "    for key in range(len(alphabet)):\n",
    "        shifted_frequencies = [0] * len(alphabet)\n",
    "        \n",
    "        for i, letter in enumerate(alphabet):\n",
    "            shifted_index = (i - key) % len(alphabet)\n",
    "            shifted_frequencies[shifted_index] = cypher_frequencies.get(letter, 0)\n",
    "        \n",
    "        correlation = 0\n",
    "        for i in range(len(alphabet)):\n",
    "            correlation += shifted_frequencies[i] * frequencia_letras[i]\n",
    "        \n",
    "        if correlation > best_correlation:\n",
    "            best_correlation = correlation\n",
    "            best_key = key\n",
    "    \n",
    "    decrypted_text = decrypt(alphabet_map, cypher_text, best_key)\n",
    "    \n",
    "    return decrypted_text\n",
    "\n",
    "decrypted_text_without_key = break_shift_cipher(alphabet_map, cypher_text)\n",
    "print(f\"Texto originado da desencriptação sem a chave: {decrypted_text_without_key}\")"
   ]
  },
  {
   "cell_type": "markdown",
   "id": "beb6cb77",
   "metadata": {},
   "source": [
    "Assim, vamos testar se o nosso resultado de fato está correto:"
   ]
  },
  {
   "cell_type": "code",
   "execution_count": 525,
   "id": "3cbe9c3c",
   "metadata": {},
   "outputs": [
    {
     "name": "stdout",
     "output_type": "stream",
     "text": [
      "Criptografia quebrada com sucesso!!\n"
     ]
    }
   ],
   "source": [
    "if decrypted_text_without_key == plain_text:\n",
    "    print(\"Criptografia quebrada com sucesso!!\")"
   ]
  },
  {
   "cell_type": "markdown",
   "id": "098781fd",
   "metadata": {},
   "source": [
    "Caso a menssagem acima não tenha sido apresentada, execute do início todos os blocos de código em ordem e execute novamente este último bloco."
   ]
  },
  {
   "cell_type": "markdown",
   "id": "374d595d",
   "metadata": {},
   "source": [
    "### Análise de Complexidade\n",
    "\n",
    "A função de geração de chave: generate_key() possui complexidade O(1)\n",
    "\n",
    "Já as funções de: encrypt() decrypt() break_shift_cipher() possuem complexidade O(n)\n",
    "\n",
    "Sendo a break_shift_cipher() a mais pesada, pois fará sempre n +26*26 computações, mas, para uma análise assintótica, ainda possui a mesma complexidade, O(n), das demais funções. "
   ]
  },
  {
   "cell_type": "markdown",
   "id": "5f2a8d8b",
   "metadata": {},
   "source": [
    "### Análise da Estratégia\n",
    "\n",
    "As estratégias utilizadas são suficientes boas, podendo criptografar, descriptografar e quebrar a cifra para qualquer cenário, mesmo para N realmente grandes."
   ]
  },
  {
   "cell_type": "markdown",
   "id": "b9866600",
   "metadata": {},
   "source": [
    "## Criptografia por Transposição\n",
    "\n",
    "A criptografia por transposição é uma técnica antiga de criptografia que, ao contrário da cifra de deslocamento, não altera as letras da mensagem, mas sim a sua ordem. Ela consiste em reorganizar as letras de uma mensagem de acordo com uma chave, que define como as letras serão rearranjadas. A chave, nesse caso, será uma palavra de até 26 caracteres, sem caracteres repetidos, que indicará a ordem das colunas na matriz de transposição, com base na posição das letras ordenadas.\n",
    "\n",
    "No funcionamento dessa cifra, o texto é disposto em uma matriz com um número fixo de colunas, determinado pela chave. O número de linhas é calculado de forma a preencher completamente o texto. Caso o texto não preencha completamente a matriz, letras adicionais são inseridas em ordem alfabética, até completar o espaço necessário. Após a disposição do texto na matriz, as letras são lidas coluna por coluna, seguindo a ordem definida pela chave, formando assim o texto cifrado. \n",
    "\n",
    "Embora a cifra de transposição tenha sido amplamente utilizada ao longo da história para proteger informações sensíveis, ela oferece pouca segurança no contexto moderno, pois pode ser quebrada através da análise de padrões, como a busca por repetições de caracteres ou pela reconstrução do padrão de transposição.\n",
    "\n",
    "A seguir, desenvolveremos um código para implementar a Criptografia por Transposição. O programa será capaz de gerar uma chave de transposição aleatória que definirá a ordem das colunas na matriz, criptografar a mensagem original com base na chave gerada e, também, descriptografar a mensagem tanto utilizando a chave de transposição quanto sem ela para chaves de até 7 caracteres, empregando a análise de frequência de dígrafos no português."
   ]
  },
  {
   "cell_type": "markdown",
   "id": "ba1fd171",
   "metadata": {},
   "source": [
    "### Código para Geração da Chave, Leitura do Plaint-Text e Geração da Cifra\n",
    "\n",
    "Aqui ainda utilizaremos o mesmo texto do George Orwell, pois também será necessário uma grande quantidade de linhas na nossa matriz de transposição para a quebra por análise de frequência. Assim, a mesma função utilizada anteriormente será aplicada novamente:"
   ]
  },
  {
   "cell_type": "code",
   "execution_count": 526,
   "id": "ec883195",
   "metadata": {},
   "outputs": [],
   "source": [
    "import math\n",
    "import random\n",
    "import itertools\n",
    "import numpy as np\n",
    "import pandas as pd\n",
    "import unicodedata\n",
    "from data.digrafos import frequencia_digrafos\n",
    "\n",
    "def read_plain_text(file_path):\n",
    "    with open(file_path, 'r', encoding='utf-8') as file:\n",
    "        plain_text = file.read()\n",
    "    \n",
    "    plain_text = plain_text.replace(\" \", \"\")\n",
    "    \n",
    "    plain_text = unicodedata.normalize('NFD', plain_text)\n",
    "    plain_text = ''.join(char for char in plain_text if unicodedata.category(char) != 'Mn')\n",
    "    \n",
    "    plain_text = plain_text.lower().replace(\"ç\", \"\")\n",
    "    plain_text = plain_text.replace(\".\", \"\")\n",
    "    plain_text = plain_text.replace(\",\", \"\")\n",
    "    plain_text = plain_text.replace(\"-\", \"\")\n",
    "    plain_text = plain_text.replace(\":\", \"\")\n",
    "    plain_text = plain_text.replace(\";\", \"\")\n",
    "    plain_text = plain_text.replace(\")\", \"\")\n",
    "    plain_text = plain_text.replace(\"(\", \"\")\n",
    "    plain_text = plain_text.replace(\"{\", \"\")\n",
    "    plain_text = plain_text.replace(\"}\", \"\")\n",
    "    plain_text = plain_text.replace(\"\\n\", \"\")\n",
    "    \n",
    "    return plain_text"
   ]
  },
  {
   "cell_type": "markdown",
   "id": "8a70f977",
   "metadata": {},
   "source": [
    "Já com nosso texto a ser cifrado, partiremos para a escolha da Chave de Transposição. A escolha da chave será aleatória e será uma palavra de até 26 caracteres sem repetição de caracteres, fora isso iremos usar a mesma função auxiliar do problema anterior."
   ]
  },
  {
   "cell_type": "code",
   "execution_count": 527,
   "id": "22d40fd0",
   "metadata": {},
   "outputs": [],
   "source": [
    "def alphabet_mapping():\n",
    "    alphabet_map = {}\n",
    "    for i in range(ord('a'), ord('z') + 1):\n",
    "        alphabet_map[chr(i)] = i - ord('a')\n",
    "    return alphabet_map\n",
    "\n",
    "def generate_key(alphabet_map, characters_length = 10):\n",
    "\n",
    "    if characters_length < 1 or characters_length > 26:\n",
    "        characters_length = 26\n",
    "\n",
    "    shuffled_map = list(alphabet_map.items()).copy()\n",
    "    random.shuffle(shuffled_map)\n",
    "    \n",
    "    key = []\n",
    "    for i in range(characters_length):\n",
    "        key.append(shuffled_map[i][0])\n",
    "\n",
    "    return key"
   ]
  },
  {
   "cell_type": "markdown",
   "id": "fe41146a",
   "metadata": {},
   "source": [
    "Com o texto pronto, a chave e nossa função auxiliar, iremos partir para a função de geração da cifra. Diferente da função de geração da cifra de deslocamento, esta terá um processamento mais pesado, gerando uma matriz de transposição e depois realizará a leitura ordenada pela posição das letras da chave percorrendo as letras em ordem alfabética."
   ]
  },
  {
   "cell_type": "code",
   "execution_count": 528,
   "id": "e2b54789",
   "metadata": {},
   "outputs": [],
   "source": [
    "def encrypt_transposition(alphabet_map, plain_text, key):\n",
    "    key_length = len(key)\n",
    "    sorted_key = sorted(key)\n",
    "    \n",
    "    num_rows = len(plain_text) // key_length\n",
    "    if (len(plain_text) % key_length) != 0:\n",
    "        num_rows = num_rows+1\n",
    "\n",
    "    matrix = []\n",
    "    for _ in range(num_rows):\n",
    "        matrix.append([''] * key_length)\n",
    "\n",
    "    index = 0\n",
    "    for row in range(len(matrix)):\n",
    "        for c in range(len(matrix[row])):\n",
    "            if(index < len(plain_text)):\n",
    "                matrix[row][c] = plain_text[index]\n",
    "            else:\n",
    "                adjusted_index = (index - len(plain_text)) % len(alphabet_map)\n",
    "                matrix[row][c] = chr(adjusted_index+ord('a'))\n",
    "            index += 1\n",
    "\n",
    "    cypher_text = ''\n",
    "\n",
    "    for i in range(len(key)):\n",
    "        col = key.index(sorted_key[i])\n",
    "        for row in matrix:\n",
    "            cypher_text = cypher_text + row[col]\n",
    "\n",
    "    return cypher_text"
   ]
  },
  {
   "cell_type": "markdown",
   "id": "b36c9f9b",
   "metadata": {},
   "source": [
    "Pronto. Agora, devemos ser capazes de ler o texto a ser criptografado, gerar uma chave aleatória e, por fim, gerar a cifra correspondente a chave fornecida. A chave de transposição foi prefixada com o intuito de tornar processo de quebra da cifra mais rápido, evitando as n! permutações que um algoritmo de transposição gera como possibilidade."
   ]
  },
  {
   "cell_type": "code",
   "execution_count": 529,
   "id": "a565153f",
   "metadata": {},
   "outputs": [
    {
     "name": "stdout",
     "output_type": "stream",
     "text": [
      "Texto original: srjonesdafazendasolartinhatrancadoosgalinheiroscomotodaanoitemasestavabebadodemaisparaselembrardefecharasportinholaslateraiscomocirculodeluzdesualanternadancandodeumladoparaooutroelesearrastoupelopatiotirouasbotasnaportadosfundosdacasaencheuumultimocopodecervejanobarrildacopaesubiuparaacamaondeasrajonesjaestavaroncandoassimquealuzdoquartoseapagouhouveumaagitacaoeumrebulicoemtodasasinstalacoesdafazendaduranteodiahaviaseespalhadoanoticiadequeovelhomajorumporcodaracamiddlewhitemagnificotiveraumsonhoestranhonanoiteanterioredesejavacontaloaosoutrosanimaistodoscombinaramquedeveriamseencontraremsegurancanograndeceleiroassimqueosrjonesestivesseforadocaminhoovelhomajorassimochamavamemboraseunomedeexibicaofossebelezadewillingdongozavadetantorespeitonafazendaquetodosestavamprontosparaperderumahoradesonoafimdeouviroqueeletinhaadizeroi\n",
      "Chave de encriptação gerada: ['a', 'h', 'j', 'v', 't', 'n']\n",
      "Texto cifrado gerado: sselhcgeoaetbmrmertarmuuarceoolrptotossauiovbdepaeoerdmuaahmamioiaadnaslnaommdmwacrnraaoeoarmdbmvsnmagcoqjssdnlomabuecszlovnpadotrpraefuuiirdnaaaaimamaaaabfaisaolzlnaupueaeiuarfdeumdeaasamansooqzrpoacrcdncfathehodvapaihgoahannrjnooaoiqeetsnreauoteohhrovoneaealnatefadaoadhsivenzjadrtdlronavdisresnlicodaanmatssloastuanmoejrcurasetnaudtauaaeoasoadeaeateejordintuonoteatssisnurerecalsenifcooacaroxobdigdoiaqovnreoomieheezonnshcdtseeaedarleocluenddoeruaropoosetprolaucdjaanilueuutultsldnaiaaaieouoaemieotneiscotiomaemoeroermresaiejimmediseidaasnntspsemdaoqtdinasiaonsoiebdplrhootcrestaoaaoaopibaddahloenipianajvasaqsoeieumaaserdipocuhrcclefvssotrealuntordacrundiissermvasaesebolwgzteoeeemopuaoeoeaoofatroiotosaoseacphasidenddlrretotsnanccuccarobaorsacseoogvgobestezuovsdiqloradtiimehiedvaoascaeinaganesoevoaomshmamifeenoertzusatarrndrlar\n"
     ]
    }
   ],
   "source": [
    "alphabet_map = alphabet_mapping()\n",
    "\n",
    "plain_text = plain_text = read_plain_text(\"../src/data/revo_bichos.txt\")\n",
    "print(f\"Texto original: {plain_text}\")\n",
    "\n",
    "key = ['a', 'h', 'j', 'v', 't', 'n']\n",
    "print(f\"Chave de encriptação gerada: {key}\")\n",
    "\n",
    "cypher_text = encrypt_transposition(alphabet_map, plain_text, key)\n",
    "print(f\"Texto cifrado gerado: {cypher_text}\")\n"
   ]
  },
  {
   "cell_type": "markdown",
   "id": "9b2e4a51",
   "metadata": {},
   "source": [
    "Caso o código acima não tenha sido executado corretamente, execute do início todos os blocos de código em ordem e execute novamente este último bloco."
   ]
  },
  {
   "cell_type": "markdown",
   "id": "4fac3847",
   "metadata": {},
   "source": [
    "### Código para Descriptografia com chave"
   ]
  },
  {
   "cell_type": "markdown",
   "id": "8d9d361f",
   "metadata": {},
   "source": [
    "Agora iremos desenvolver o processo de descriptografar utilizando a chave de transposição fornecida. Esse algoritmo irá percorrer os passos inversos do algoritmo de criptografia, gerando de forma ordenada uma matriz de transposição com base na chave e, por fim, retornará o texto original."
   ]
  },
  {
   "cell_type": "code",
   "execution_count": 530,
   "id": "28ae8527",
   "metadata": {},
   "outputs": [
    {
     "name": "stdout",
     "output_type": "stream",
     "text": [
      "Texto resultante da desencriptação com a chave: srjonesdafazendasolartinhatrancadoosgalinheiroscomotodaanoitemasestavabebadodemaisparaselembrardefecharasportinholaslateraiscomocirculodeluzdesualanternadancandodeumladoparaooutroelesearrastoupelopatiotirouasbotasnaportadosfundosdacasaencheuumultimocopodecervejanobarrildacopaesubiuparaacamaondeasrajonesjaestavaroncandoassimquealuzdoquartoseapagouhouveumaagitacaoeumrebulicoemtodasasinstalacoesdafazendaduranteodiahaviaseespalhadoanoticiadequeovelhomajorumporcodaracamiddlewhitemagnificotiveraumsonhoestranhonanoiteanterioredesejavacontaloaosoutrosanimaistodoscombinaramquedeveriamseencontraremsegurancanograndeceleiroassimqueosrjonesestivesseforadocaminhoovelhomajorassimochamavamemboraseunomedeexibicaofossebelezadewillingdongozavadetantorespeitonafazendaquetodosestavamprontosparaperderumahoradesonoafimdeouviroqueeletinhaadizeroi\n"
     ]
    }
   ],
   "source": [
    "def decrypt_transposition(alphabet_map, cypher_text, key):\n",
    "    key_length = len(key)\n",
    "    sorted_key = sorted(key)\n",
    "\n",
    "    num_rows = len(cypher_text) // key_length\n",
    "    if (len(cypher_text) % key_length) != 0:\n",
    "        num_rows += 1\n",
    "\n",
    "    matrix = []\n",
    "    for _ in range(num_rows):\n",
    "        matrix.append([''] * key_length)\n",
    "\n",
    "    col = 0\n",
    "    for i in range(len(key)):\n",
    "        index = key.index(sorted_key[i])\n",
    "        for row in range(num_rows):\n",
    "            matrix[row][index] = cypher_text[col]\n",
    "            col += 1\n",
    "\n",
    "    plain_text = ''\n",
    "    for row in matrix:\n",
    "        plain_text += ''.join(row)\n",
    "        \n",
    "    return plain_text\n",
    "\n",
    "decrypted_text_with_key = decrypt_transposition(alphabet_map, cypher_text, key)\n",
    "print(f\"Texto resultante da desencriptação com a chave: {decrypted_text_with_key}\")"
   ]
  },
  {
   "cell_type": "markdown",
   "id": "97af50d9",
   "metadata": {},
   "source": [
    "Assim, vamos testar se o nosso resultado de fato está correto:"
   ]
  },
  {
   "cell_type": "code",
   "execution_count": 531,
   "id": "a9c2e223",
   "metadata": {},
   "outputs": [
    {
     "name": "stdout",
     "output_type": "stream",
     "text": [
      "Criptografia gerada e revertida com sucesso!!\n"
     ]
    }
   ],
   "source": [
    "if decrypted_text_with_key == plain_text:\n",
    "    print(\"Criptografia gerada e revertida com sucesso!!\")"
   ]
  },
  {
   "cell_type": "markdown",
   "id": "84fc6bfc",
   "metadata": {},
   "source": [
    "Caso a menssagem acima não tenha sido apresentada, execute do início todos os blocos de código em ordem e execute novamente este último bloco."
   ]
  },
  {
   "cell_type": "markdown",
   "id": "5d3f7b9e",
   "metadata": {},
   "source": [
    "### Código para Descriptografia sem chave - Força Bruta"
   ]
  },
  {
   "cell_type": "markdown",
   "id": "88f0a325",
   "metadata": {},
   "source": [
    "Agora, tentaremos quebrar a cifra sem utilizar a chave de transposição. A única informação disponível será o texto cifrado em si e o tamanho da chave. O tamanho da chave foi fixado para tornar o código mais simples, mas bastaria percorrer as possibilidades de tamanhos em que fosse permitido ter um modulo com resto zero e pegar a possibilidade com maior score, mas, novamente, seria uma complicação a mais que não agrega ao tema em questão. Essa função será mais complexa do que as anteriores, pois envolverá uma heurística pesada para escolhar qual será a ordem da palavra chave que fará mais sentido com base na frequência assimétrica dos digrafos no português.\n",
    "\n",
    "A estratégia adotada para quebrar a cifra de transposição envolve testar todas as permutações possíveis da ordem das colunas da matriz gerada a partir do texto cifrado. A matriz é construída considerando o comprimento da chave, e cada permutação representa uma tentativa de reorganizar as colunas. O objetivo é encontrar a permutação que maximize o \"score\", que é calculado com base na frequência de digrafos presentes na matriz e em uma tabela de frequências pré-estabelecida.\n",
    "\n",
    "A função calcula o score para cada permutação das colunas e seleciona a que resulta no maior valor, o que indica a maior probabilidade de que a sequência de colunas corresponda à disposição original do texto. A melhor permutação é então usada para reorganizar o texto cifrado e decifrá-lo, recuperando o conteúdo original."
   ]
  },
  {
   "cell_type": "code",
   "execution_count": 532,
   "id": "ac485d73",
   "metadata": {},
   "outputs": [
    {
     "name": "stdout",
     "output_type": "stream",
     "text": [
      "Texto originado da desencriptação sem a chave: srjonesdafazendasolartinhatrancadoosgalinheiroscomotodaanoitemasestavabebadodemaisparaselembrardefecharasportinholaslateraiscomocirculodeluzdesualanternadancandodeumladoparaooutroelesearrastoupelopatiotirouasbotasnaportadosfundosdacasaencheuumultimocopodecervejanobarrildacopaesubiuparaacamaondeasrajonesjaestavaroncandoassimquealuzdoquartoseapagouhouveumaagitacaoeumrebulicoemtodasasinstalacoesdafazendaduranteodiahaviaseespalhadoanoticiadequeovelhomajorumporcodaracamiddlewhitemagnificotiveraumsonhoestranhonanoiteanterioredesejavacontaloaosoutrosanimaistodoscombinaramquedeveriamseencontraremsegurancanograndeceleiroassimqueosrjonesestivesseforadocaminhoovelhomajorassimochamavamemboraseunomedeexibicaofossebelezadewillingdongozavadetantorespeitonafazendaquetodosestavamprontosparaperderumahoradesonoafimdeouviroqueeletinhaadizeroi\n"
     ]
    }
   ],
   "source": [
    "def calculate_score(df, column_sequence, cypher_text, key_length):\n",
    "    num_rows = len(cypher_text) // key_length\n",
    "    if len(cypher_text) % key_length != 0:\n",
    "        num_rows += 1\n",
    "    \n",
    "    matrix = [[''] * key_length for _ in range(num_rows)]\n",
    "    col = 0\n",
    "    for i in range(len(column_sequence)):\n",
    "        index = column_sequence[i]\n",
    "        for row in range(num_rows):\n",
    "            if col < len(cypher_text):\n",
    "                matrix[row][index] = cypher_text[col]\n",
    "                col += 1\n",
    "\n",
    "    # Calcula o score baseado na frequência dos dígrafos\n",
    "    score = 0\n",
    "    for row in matrix:\n",
    "        for i in range(len(row) - 1):\n",
    "            if row[i] and row[i + 1]:\n",
    "                digraph = row[i] + row[i + 1]\n",
    "                if digraph[0] in df.index and digraph[1] in df.columns:\n",
    "                    score += df.at[digraph[0], digraph[1]]\n",
    "    \n",
    "    return score\n",
    "    \n",
    "def break_transposition_cipher(df, alphabet_map, cypher_text):\n",
    "    key_length = 6\n",
    "    best_sequence = None\n",
    "    best_score = -1\n",
    "    \n",
    "    # Gerar todas as combinações possíveis de colunas\n",
    "    for perm in itertools.permutations(range(key_length)):\n",
    "        score = calculate_score(df, perm, cypher_text, key_length)\n",
    "        \n",
    "        if score > best_score:\n",
    "            best_score = score\n",
    "            best_sequence = perm\n",
    "    \n",
    "    # Decifrar o texto com a melhor sequência encontrada\n",
    "    plain_text = decrypt_transposition(alphabet_map, cypher_text, best_sequence)\n",
    "    return plain_text\n",
    "\n",
    "#Preparando os dados para o Pandas\n",
    "tamanho_grupo = 26\n",
    "data= [frequencia_digrafos[i:i + tamanho_grupo] for i in range(0, len(frequencia_digrafos), tamanho_grupo)]\n",
    "#Criando um DataFrame com Pandas\n",
    "df = pd.DataFrame(data)\n",
    "# Ajusta o índice e colunas conforme necessário\n",
    "df.index = [chr(i) for i in range(ord('a'), ord('z') + 1)]\n",
    "df.columns = [chr(i) for i in range(ord('a'), ord('z') + 1)]\n",
    "\n",
    "decrypted_text_without_key = break_transposition_cipher(df, alphabet_map, cypher_text)\n",
    "print(f\"Texto originado da desencriptação sem a chave: {decrypted_text_without_key}\")"
   ]
  },
  {
   "cell_type": "markdown",
   "id": "9d6cdfbd",
   "metadata": {},
   "source": [
    "Assim, vamos testar se o nosso resultado de fato está correto:"
   ]
  },
  {
   "cell_type": "code",
   "execution_count": 533,
   "id": "e9caa3d0",
   "metadata": {},
   "outputs": [
    {
     "name": "stdout",
     "output_type": "stream",
     "text": [
      "Criptografia quebrada com sucesso!!\n"
     ]
    }
   ],
   "source": [
    "if decrypted_text_without_key == plain_text:\n",
    "    print(\"Criptografia quebrada com sucesso!!\")\n",
    "    "
   ]
  },
  {
   "cell_type": "markdown",
   "id": "d3c5e05e",
   "metadata": {},
   "source": [
    "Caso a menssagem acima não tenha sido apresentada, execute do início todos os blocos de código em ordem e execute novamente este último bloco."
   ]
  },
  {
   "cell_type": "markdown",
   "id": "2e8508a9",
   "metadata": {},
   "source": [
    "### Análise de Complexidade\n",
    "\n",
    "A função de geração de chave: generate_key() possui complexidade O(1)\n",
    "\n",
    "As funções de: encrypt() decrypt() possuem complexidade O(n)\n",
    "\n",
    "Já a função de quebra de cifra: break_shift_cipher() possui complexidade O(n!)"
   ]
  },
  {
   "cell_type": "markdown",
   "id": "93523daa",
   "metadata": {},
   "source": [
    "### Análise da Estratégia\n",
    "\n",
    "As estratégias utilizadas são suficientes boas para os cenários de: criptografar e descriptografar, mesmo para N realmente grandes.\n",
    "\n",
    "A estratégia de quebra da cifra não é boa o suficente para tamanho de chave muito grandes visto que sua complexidade é n!."
   ]
  }
 ],
 "metadata": {
  "kernelspec": {
   "display_name": ".venv",
   "language": "python",
   "name": "python3"
  },
  "language_info": {
   "codemirror_mode": {
    "name": "ipython",
    "version": 3
   },
   "file_extension": ".py",
   "mimetype": "text/x-python",
   "name": "python",
   "nbconvert_exporter": "python",
   "pygments_lexer": "ipython3",
   "version": "3.11.2"
  }
 },
 "nbformat": 4,
 "nbformat_minor": 5
}
